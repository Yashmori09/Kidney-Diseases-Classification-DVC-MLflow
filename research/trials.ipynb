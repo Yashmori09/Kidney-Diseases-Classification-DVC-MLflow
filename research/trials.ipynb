{
 "cells": [
  {
   "cell_type": "code",
   "execution_count": null,
   "metadata": {},
   "outputs": [],
   "source": [
    "d= {\"key\": \"val\",\"la\":\"ss\"}\n",
    "\n",
    "from box import ConfigBox\n",
    "\n",
    "d1= ConfigBox"
   ]
  }
 ],
 "metadata": {
  "kernelspec": {
   "display_name": "venv",
   "language": "python",
   "name": "python3"
  },
  "language_info": {
   "name": "python",
   "version": "3.11.0"
  }
 },
 "nbformat": 4,
 "nbformat_minor": 2
}
